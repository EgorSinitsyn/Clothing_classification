{
 "cells": [
  {
   "metadata": {
    "ExecuteTime": {
     "end_time": "2024-12-11T17:34:13.429273Z",
     "start_time": "2024-12-11T17:34:12.981061Z"
    }
   },
   "cell_type": "code",
   "source": [
    "import requests\n",
    "\n",
    "# Данные для отправки (URL изображения)\n",
    "data = {\n",
    "    \"url\": \"data:image/jpeg;base64,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\"\n",
    "}\n",
    "\n",
    "# URL локального Flask-сервера в контейнере Docker\n",
    "url = \"http://localhost:8080/predict\"\n",
    "\n",
    "try:\n",
    "    # Отправка POST-запроса\n",
    "    response = requests.post(url, json=data)\n",
    "    response.raise_for_status()  # Проверка на HTTP-ошибки\n",
    "    results = response.json()   # Парсинг ответа в формате JSON\n",
    "    print(\"Результаты предсказания:\", results)\n",
    "except requests.exceptions.RequestException as e:\n",
    "    print(f\"Ошибка запроса: {e}\")"
   ],
   "id": "63b50ded240b4905",
   "outputs": [
    {
     "name": "stdout",
     "output_type": "stream",
     "text": [
      "Результаты предсказания: {'dress': -0.35439395904541016, 'hat': 8.876604080200195, 'longsleeve': -1.0691218376159668, 'outwear': -2.532392740249634, 'pants': -3.5364766120910645, 'shirt': -3.198246717453003, 'shoes': 1.9062005281448364, 'shorts': -4.603714942932129, 'skirt': -0.11942662298679352, 't-shirt': -0.16612443327903748}\n"
     ]
    }
   ],
   "execution_count": 2
  },
  {
   "metadata": {},
   "cell_type": "code",
   "outputs": [],
   "execution_count": null,
   "source": "",
   "id": "e285badd8a9a95ce"
  }
 ],
 "metadata": {
  "kernelspec": {
   "display_name": "Python 3",
   "language": "python",
   "name": "python3"
  },
  "language_info": {
   "codemirror_mode": {
    "name": "ipython",
    "version": 2
   },
   "file_extension": ".py",
   "mimetype": "text/x-python",
   "name": "python",
   "nbconvert_exporter": "python",
   "pygments_lexer": "ipython2",
   "version": "2.7.6"
  }
 },
 "nbformat": 4,
 "nbformat_minor": 5
}
