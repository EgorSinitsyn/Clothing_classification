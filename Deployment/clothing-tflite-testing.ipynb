{
 "cells": [
  {
   "metadata": {},
   "cell_type": "markdown",
   "source": "# Подготовка изображений и тестирование модели TF Lite",
   "id": "7302f5dd2983f1cc"
  },
  {
   "cell_type": "code",
   "id": "initial_id",
   "metadata": {
    "collapsed": true,
    "ExecuteTime": {
     "end_time": "2024-12-11T08:51:28.209604Z",
     "start_time": "2024-12-11T08:51:27.297498Z"
    }
   },
   "source": "!pip install keras_image_helper",
   "outputs": [
    {
     "name": "stdout",
     "output_type": "stream",
     "text": [
      "Requirement already satisfied: keras_image_helper in /Users/oudzhi/PycharmProjects/ML_BookCamp/.venv/lib/python3.11/site-packages (0.0.1)\r\n",
      "Requirement already satisfied: numpy in /Users/oudzhi/PycharmProjects/ML_BookCamp/.venv/lib/python3.11/site-packages (from keras_image_helper) (2.0.2)\r\n",
      "Requirement already satisfied: pillow in /Users/oudzhi/PycharmProjects/ML_BookCamp/.venv/lib/python3.11/site-packages (from keras_image_helper) (10.4.0)\r\n"
     ]
    }
   ],
   "execution_count": 13
  },
  {
   "metadata": {
    "ExecuteTime": {
     "end_time": "2024-12-11T08:51:28.217924Z",
     "start_time": "2024-12-11T08:51:28.215136Z"
    }
   },
   "cell_type": "code",
   "source": "from keras_image_helper import create_preprocessor",
   "id": "339796abb14fa718",
   "outputs": [],
   "execution_count": 14
  },
  {
   "metadata": {
    "ExecuteTime": {
     "end_time": "2024-12-11T08:51:28.232767Z",
     "start_time": "2024-12-11T08:51:28.230907Z"
    }
   },
   "cell_type": "code",
   "source": [
    "# Создаем функцию-препроцессинга для последующего преобразования в массив Nympy\n",
    "\n",
    "preprocessor = create_preprocessor('xception', target_size=(299, 299))"
   ],
   "id": "9a939b885806b160",
   "outputs": [],
   "execution_count": 15
  },
  {
   "metadata": {
    "ExecuteTime": {
     "end_time": "2024-12-11T08:51:28.731226Z",
     "start_time": "2024-12-11T08:51:28.234746Z"
    }
   },
   "cell_type": "code",
   "source": [
    "image_url = 'https://encrypted-tbn0.gstatic.com/images?q=tbn:ANd9GcRa_4rRYSPhQS5RlTPshFtALG2l3q6O-dVOhw&s'\n",
    "X = preprocessor.from_url(image_url)"
   ],
   "id": "ea538303e4532690",
   "outputs": [],
   "execution_count": 16
  },
  {
   "metadata": {
    "ExecuteTime": {
     "end_time": "2024-12-11T08:51:28.744237Z",
     "start_time": "2024-12-11T08:51:28.740964Z"
    }
   },
   "cell_type": "code",
   "source": "X.shape",
   "id": "2f7d47a7cd70b761",
   "outputs": [
    {
     "data": {
      "text/plain": [
       "(1, 299, 299, 3)"
      ]
     },
     "execution_count": 17,
     "metadata": {},
     "output_type": "execute_result"
    }
   ],
   "execution_count": 17
  },
  {
   "metadata": {},
   "cell_type": "markdown",
   "source": [
    "- 1 - количество изображений\n",
    "- 299 - высота\n",
    "- 299 - ширина\n",
    "- 3 - количество цветовых каналов: красный, зеленый и синий"
   ],
   "id": "13dcaf20dc6a78e5"
  },
  {
   "metadata": {
    "ExecuteTime": {
     "end_time": "2024-12-11T08:51:28.755661Z",
     "start_time": "2024-12-11T08:51:28.752355Z"
    }
   },
   "cell_type": "code",
   "source": "import tensorflow.lite as tflite",
   "id": "5173c731d035f802",
   "outputs": [],
   "execution_count": 18
  },
  {
   "metadata": {},
   "cell_type": "markdown",
   "source": "Загружаем ранее преобразованную модель:",
   "id": "dba515f35d038a83"
  },
  {
   "metadata": {
    "ExecuteTime": {
     "end_time": "2024-12-11T08:51:28.813357Z",
     "start_time": "2024-12-11T08:51:28.761478Z"
    }
   },
   "cell_type": "code",
   "source": [
    "interpreter = tflite.Interpreter(model_path='Deployment/clothing-model-v4-0.886.tflite') # создает интерпретатор\n",
    "interpreter.allocate_tensors() # инициализирует интерпретатор с помощью модели"
   ],
   "id": "fb94f5a978458d60",
   "outputs": [],
   "execution_count": 19
  },
  {
   "metadata": {},
   "cell_type": "markdown",
   "source": "Получаем входные данные (куда пойдет Х) и выходные данные (откуда получим прогнозы)",
   "id": "22ea697308f17c8"
  },
  {
   "metadata": {
    "ExecuteTime": {
     "end_time": "2024-12-11T08:51:28.822007Z",
     "start_time": "2024-12-11T08:51:28.819524Z"
    }
   },
   "cell_type": "code",
   "source": [
    "input_details = interpreter.get_input_details()\n",
    "input_index = input_details[0]['index']\n",
    "\n",
    "output_details = interpreter.get_output_details()\n",
    "output_index = output_details[0]['index']"
   ],
   "id": "19e6236489635071",
   "outputs": [],
   "execution_count": 20
  },
  {
   "metadata": {},
   "cell_type": "markdown",
   "source": "Делаем предсказания:",
   "id": "f453504be8a0466d"
  },
  {
   "metadata": {
    "ExecuteTime": {
     "end_time": "2024-12-11T08:51:29.062324Z",
     "start_time": "2024-12-11T08:51:28.826395Z"
    }
   },
   "cell_type": "code",
   "source": [
    "interpreter.set_tensor(input_index, X) # Помещает Х во входные данные\n",
    "interpreter.invoke() # Запускает модель для получения прогнозов\n",
    "\n",
    "preds = interpreter.get_tensor(output_index) # Получает прогнозы"
   ],
   "id": "9f4b16d3f9243952",
   "outputs": [],
   "execution_count": 21
  },
  {
   "metadata": {},
   "cell_type": "markdown",
   "source": "Переменная preds содержит вероятности принадлежности к каждому классу:",
   "id": "231a16ace052bba"
  },
  {
   "metadata": {
    "ExecuteTime": {
     "end_time": "2024-12-11T08:51:29.070692Z",
     "start_time": "2024-12-11T08:51:29.068272Z"
    }
   },
   "cell_type": "code",
   "source": "preds",
   "id": "e8c0c447fb12fa7",
   "outputs": [
    {
     "data": {
      "text/plain": [
       "array([[-3.649766  , -5.0966783 , -2.2770104 , -0.53570926,  8.526883  ,\n",
       "        -1.2590158 , -2.098923  ,  3.7655292 , -2.1019533 , -3.2585163 ]],\n",
       "      dtype=float32)"
      ]
     },
     "execution_count": 22,
     "metadata": {},
     "output_type": "execute_result"
    }
   ],
   "execution_count": 22
  },
  {
   "metadata": {},
   "cell_type": "markdown",
   "source": "Конвертируем предсказания в читаемый формат:",
   "id": "79331d62ec7a9143"
  },
  {
   "metadata": {
    "ExecuteTime": {
     "end_time": "2024-12-11T08:51:29.102614Z",
     "start_time": "2024-12-11T08:51:29.100312Z"
    }
   },
   "cell_type": "code",
   "source": [
    "labels = [\n",
    "    'dress',\n",
    "    'hat',\n",
    "    'longsleeve',\n",
    "    'outwear',\n",
    "    'pants',\n",
    "    'shirt',\n",
    "    'shoes',\n",
    "    'shorts',\n",
    "    'skirt',\n",
    "    't-shirt'\n",
    "]"
   ],
   "id": "953f6ef31df20e2f",
   "outputs": [],
   "execution_count": 23
  },
  {
   "metadata": {
    "ExecuteTime": {
     "end_time": "2024-12-11T08:51:29.145752Z",
     "start_time": "2024-12-11T08:51:29.142355Z"
    }
   },
   "cell_type": "code",
   "source": [
    "results = dict(zip(labels, preds[0]))\n",
    "results"
   ],
   "id": "b7ecec295201419",
   "outputs": [
    {
     "data": {
      "text/plain": [
       "{'dress': np.float32(-3.649766),\n",
       " 'hat': np.float32(-5.0966783),\n",
       " 'longsleeve': np.float32(-2.2770104),\n",
       " 'outwear': np.float32(-0.53570926),\n",
       " 'pants': np.float32(8.526883),\n",
       " 'shirt': np.float32(-1.2590158),\n",
       " 'shoes': np.float32(-2.098923),\n",
       " 'shorts': np.float32(3.7655292),\n",
       " 'skirt': np.float32(-2.1019533),\n",
       " 't-shirt': np.float32(-3.2585163)}"
      ]
     },
     "execution_count": 24,
     "metadata": {},
     "output_type": "execute_result"
    }
   ],
   "execution_count": 24
  },
  {
   "metadata": {},
   "cell_type": "markdown",
   "source": "Метка pants имеет наибольшую вероятность, что означает, что модель считает, что на изображении изображены брюки.",
   "id": "2b88f06347ffa334"
  },
  {
   "metadata": {
    "ExecuteTime": {
     "end_time": "2024-12-11T08:51:29.161633Z",
     "start_time": "2024-12-11T08:51:29.160348Z"
    }
   },
   "cell_type": "code",
   "source": "",
   "id": "acad13b216cec5ab",
   "outputs": [],
   "execution_count": null
  }
 ],
 "metadata": {
  "kernelspec": {
   "display_name": "Python 3",
   "language": "python",
   "name": "python3"
  },
  "language_info": {
   "codemirror_mode": {
    "name": "ipython",
    "version": 2
   },
   "file_extension": ".py",
   "mimetype": "text/x-python",
   "name": "python",
   "nbconvert_exporter": "python",
   "pygments_lexer": "ipython2",
   "version": "2.7.6"
  }
 },
 "nbformat": 4,
 "nbformat_minor": 5
}
